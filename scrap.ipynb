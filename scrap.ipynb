{
 "cells": [
  {
   "cell_type": "code",
   "execution_count": null,
   "id": "59a916bd-0c93-4cfe-93e6-845187fc8e70",
   "metadata": {},
   "outputs": [],
   "source": [
    "from NetworkClasses import *\n",
    "import numpy as np\n",
    "#Criss-Cross Network\n",
    "rng = np.random.default_rng(10)\n",
    "def server1_dist(job):\n",
    "    if job.cls==\"J1\":\n",
    "        mu = 3\n",
    "        return rng.exponential(1.0 / mu)\n",
    "    if job.cls==\"J3\":\n",
    "        mu = 2\n",
    "        return rng.exponential(1.0 / mu)\n",
    "def server2_dist(job):\n",
    "    mu = 5\n",
    "    return rng.exponential(1.0 / mu)\n",
    "\n",
    "S1_servers = [Server(f\"S1-s{i}\", server1_dist) for i in range(2)]\n",
    "S1_queues = {\"Q1\": Queue(\"S1\",\"Q1\"), \"Q2\": Queue(\"S1\",\"Q2\")}\n",
    "S1 = Station(\"S1\",S1_queues, S1_servers)\n",
    "S2_servers = [Server(f\"S2-s{i}\", server2_dist) for i in range(2)]\n",
    "S2_queues = {\"Q1\": Queue(\"S2\",\"Q1\")}\n",
    "S2 = Station(\"S2\",S2_queues, S2_servers)\n",
    "\n",
    "arrival_rate = 5\n",
    "interarrival = exp_interarrival(arrival_rate,rng)\n",
    "ap = ArrivalProcess(\"S1\", \"Q1\",interarrival, job_class = \"J1\")\n",
    "\n",
    "class CrissCrossRouter():\n",
    "        def route(self, job: Job, station_id: str, t: float) -> Optional[Tuple[str, str]]:\n",
    "            if job.cls == \"J1\":\n",
    "                job.cls = \"J2\"\n",
    "                return (\"S2\", \"Q1\")\n",
    "            if job.cls == \"J2\":\n",
    "                job.cls = \"J3\"\n",
    "                return (\"S1\", \"Q2\")\n",
    "            else:\n",
    "                return None\n",
    "                \n",
    "router = CrissCrossRouter()\n",
    "\n",
    "policy_list = [FIFOPolicy(), MaxWeightByQLenPolicy()]\n",
    "policy = MaxWeightByQLenPolicy()\n",
    "net = Network(\n",
    "    stations={\"S1\": S1, \"S2\": S2},\n",
    "    arrivals=[ap],\n",
    "    router=router,\n",
    "    policy=policy,\n",
    "    rng=rng\n",
    ")\n",
    "\n",
    "net.run(until_jobs=5000)\n",
    "\n",
    "print(f\"Completed jobs: {net.completed_jobs}\")\n",
    "print(f\"Mean sojourn time: {net.mean_sojourn():.4f}\")"
   ]
  }
 ],
 "metadata": {
  "kernelspec": {
   "display_name": "mlenv",
   "language": "python",
   "name": "mlenv"
  },
  "language_info": {
   "codemirror_mode": {
    "name": "ipython",
    "version": 3
   },
   "file_extension": ".py",
   "mimetype": "text/x-python",
   "name": "python",
   "nbconvert_exporter": "python",
   "pygments_lexer": "ipython3",
   "version": "3.12.8"
  }
 },
 "nbformat": 4,
 "nbformat_minor": 5
}
